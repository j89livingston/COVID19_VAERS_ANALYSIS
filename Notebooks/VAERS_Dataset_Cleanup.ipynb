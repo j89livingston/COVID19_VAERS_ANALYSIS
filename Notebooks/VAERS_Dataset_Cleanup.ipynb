{
 "cells": [
  {
   "cell_type": "markdown",
   "metadata": {},
   "source": [
    "## VAERSData Cleanup"
   ]
  },
  {
   "cell_type": "code",
   "execution_count": 15,
   "metadata": {},
   "outputs": [],
   "source": [
    "# Add the Pandas dependency.\n",
    "import pandas as pd"
   ]
  },
  {
   "cell_type": "code",
   "execution_count": 16,
   "metadata": {},
   "outputs": [],
   "source": [
    "# Files to load\n",
    "data_csv = \"../Resources/Data/2021VAERSData.csv\"\n",
    "vax_csv = \"../Resources/Data/2021VAERSVAX.csv\"\n",
    "symptoms_csv = \"../Resources/Data/2021VAERSSYMPTOMS.csv\""
   ]
  },
  {
   "cell_type": "code",
   "execution_count": 17,
   "metadata": {
    "scrolled": true
   },
   "outputs": [
    {
     "data": {
      "text/html": [
       "<div>\n",
       "<style scoped>\n",
       "    .dataframe tbody tr th:only-of-type {\n",
       "        vertical-align: middle;\n",
       "    }\n",
       "\n",
       "    .dataframe tbody tr th {\n",
       "        vertical-align: top;\n",
       "    }\n",
       "\n",
       "    .dataframe thead th {\n",
       "        text-align: right;\n",
       "    }\n",
       "</style>\n",
       "<table border=\"1\" class=\"dataframe\">\n",
       "  <thead>\n",
       "    <tr style=\"text-align: right;\">\n",
       "      <th></th>\n",
       "      <th>version https://git-lfs.github.com/spec/v1</th>\n",
       "    </tr>\n",
       "  </thead>\n",
       "  <tbody>\n",
       "    <tr>\n",
       "      <th>0</th>\n",
       "      <td>oid sha256:228e400f99311a8342aab5e20c873ef4363...</td>\n",
       "    </tr>\n",
       "    <tr>\n",
       "      <th>1</th>\n",
       "      <td>size 255665141</td>\n",
       "    </tr>\n",
       "  </tbody>\n",
       "</table>\n",
       "</div>"
      ],
      "text/plain": [
       "          version https://git-lfs.github.com/spec/v1\n",
       "0  oid sha256:228e400f99311a8342aab5e20c873ef4363...\n",
       "1                                     size 255665141"
      ]
     },
     "execution_count": 17,
     "metadata": {},
     "output_type": "execute_result"
    }
   ],
   "source": [
    "# VAERSData Dataframe\n",
    "vaers_data = pd.read_csv(data_csv, index_col=None, header=0, encoding='latin1', low_memory=False)\n",
    "vaers_data.head()"
   ]
  },
  {
   "cell_type": "code",
   "execution_count": 18,
   "metadata": {},
   "outputs": [],
   "source": [
    "# converting NaN to 0 in vaers data\n",
    "vaers_data = vaers_data.fillna(0)"
   ]
  },
  {
   "cell_type": "code",
   "execution_count": 19,
   "metadata": {},
   "outputs": [
    {
     "data": {
      "text/plain": [
       "version https://git-lfs.github.com/spec/v1    0\n",
       "dtype: int64"
      ]
     },
     "execution_count": 19,
     "metadata": {},
     "output_type": "execute_result"
    }
   ],
   "source": [
    "# checking if it worked. it did.\n",
    "vaers_data.isnull().sum()"
   ]
  },
  {
   "cell_type": "code",
   "execution_count": 20,
   "metadata": {},
   "outputs": [
    {
     "ename": "KeyError",
     "evalue": "\"None of ['VAERS_ID'] are in the columns\"",
     "output_type": "error",
     "traceback": [
      "\u001b[0;31m---------------------------------------------------------------------------\u001b[0m",
      "\u001b[0;31mKeyError\u001b[0m                                  Traceback (most recent call last)",
      "\u001b[0;32m<ipython-input-20-b7a1175c0c43>\u001b[0m in \u001b[0;36m<module>\u001b[0;34m\u001b[0m\n\u001b[1;32m      1\u001b[0m \u001b[0;31m# Set VAERS_ID as index\u001b[0m\u001b[0;34m\u001b[0m\u001b[0;34m\u001b[0m\u001b[0;34m\u001b[0m\u001b[0m\n\u001b[0;32m----> 2\u001b[0;31m \u001b[0mvaers_data_df\u001b[0m \u001b[0;34m=\u001b[0m \u001b[0mvaers_data\u001b[0m\u001b[0;34m.\u001b[0m\u001b[0mset_index\u001b[0m\u001b[0;34m(\u001b[0m\u001b[0;34m[\u001b[0m\u001b[0;34m\"VAERS_ID\"\u001b[0m\u001b[0;34m]\u001b[0m\u001b[0;34m)\u001b[0m\u001b[0;34m\u001b[0m\u001b[0;34m\u001b[0m\u001b[0m\n\u001b[0m\u001b[1;32m      3\u001b[0m \u001b[0mvaers_data_df\u001b[0m\u001b[0;34m.\u001b[0m\u001b[0mhead\u001b[0m\u001b[0;34m(\u001b[0m\u001b[0;34m)\u001b[0m\u001b[0;34m\u001b[0m\u001b[0;34m\u001b[0m\u001b[0m\n",
      "\u001b[0;32m~/opt/anaconda3/lib/python3.8/site-packages/pandas/core/frame.py\u001b[0m in \u001b[0;36mset_index\u001b[0;34m(self, keys, drop, append, inplace, verify_integrity)\u001b[0m\n\u001b[1;32m   4549\u001b[0m \u001b[0;34m\u001b[0m\u001b[0m\n\u001b[1;32m   4550\u001b[0m         \u001b[0;32mif\u001b[0m \u001b[0mmissing\u001b[0m\u001b[0;34m:\u001b[0m\u001b[0;34m\u001b[0m\u001b[0;34m\u001b[0m\u001b[0m\n\u001b[0;32m-> 4551\u001b[0;31m             \u001b[0;32mraise\u001b[0m \u001b[0mKeyError\u001b[0m\u001b[0;34m(\u001b[0m\u001b[0;34mf\"None of {missing} are in the columns\"\u001b[0m\u001b[0;34m)\u001b[0m\u001b[0;34m\u001b[0m\u001b[0;34m\u001b[0m\u001b[0m\n\u001b[0m\u001b[1;32m   4552\u001b[0m \u001b[0;34m\u001b[0m\u001b[0m\n\u001b[1;32m   4553\u001b[0m         \u001b[0;32mif\u001b[0m \u001b[0minplace\u001b[0m\u001b[0;34m:\u001b[0m\u001b[0;34m\u001b[0m\u001b[0;34m\u001b[0m\u001b[0m\n",
      "\u001b[0;31mKeyError\u001b[0m: \"None of ['VAERS_ID'] are in the columns\""
     ]
    }
   ],
   "source": [
    "# Set VAERS_ID as index\n",
    "vaers_data_df = vaers_data.set_index([\"VAERS_ID\"])\n",
    "vaers_data_df.head()"
   ]
  },
  {
   "cell_type": "code",
   "execution_count": 21,
   "metadata": {},
   "outputs": [
    {
     "ename": "NameError",
     "evalue": "name 'vaers_data_df' is not defined",
     "output_type": "error",
     "traceback": [
      "\u001b[0;31m---------------------------------------------------------------------------\u001b[0m",
      "\u001b[0;31mNameError\u001b[0m                                 Traceback (most recent call last)",
      "\u001b[0;32m<ipython-input-21-d84badac4f35>\u001b[0m in \u001b[0;36m<module>\u001b[0;34m\u001b[0m\n\u001b[1;32m      1\u001b[0m \u001b[0;31m# Check vaers_data_df columns\u001b[0m\u001b[0;34m\u001b[0m\u001b[0;34m\u001b[0m\u001b[0;34m\u001b[0m\u001b[0m\n\u001b[0;32m----> 2\u001b[0;31m \u001b[0mvaers_data_df\u001b[0m\u001b[0;34m.\u001b[0m\u001b[0mcolumns\u001b[0m\u001b[0;34m\u001b[0m\u001b[0;34m\u001b[0m\u001b[0m\n\u001b[0m",
      "\u001b[0;31mNameError\u001b[0m: name 'vaers_data_df' is not defined"
     ]
    }
   ],
   "source": [
    "# Check vaers_data_df columns\n",
    "vaers_data_df.columns"
   ]
  },
  {
   "cell_type": "code",
   "execution_count": 22,
   "metadata": {},
   "outputs": [
    {
     "ename": "NameError",
     "evalue": "name 'vaers_data_df' is not defined",
     "output_type": "error",
     "traceback": [
      "\u001b[0;31m---------------------------------------------------------------------------\u001b[0m",
      "\u001b[0;31mNameError\u001b[0m                                 Traceback (most recent call last)",
      "\u001b[0;32m<ipython-input-22-e5fe9f6a0f11>\u001b[0m in \u001b[0;36m<module>\u001b[0;34m\u001b[0m\n\u001b[1;32m      1\u001b[0m \u001b[0;31m# Drop  Columns\u001b[0m\u001b[0;34m\u001b[0m\u001b[0;34m\u001b[0m\u001b[0;34m\u001b[0m\u001b[0m\n\u001b[0;32m----> 2\u001b[0;31m clean_vaers_data_df = vaers_data_df.drop(columns =['CAGE_YR', 'CAGE_MO', 'RPT_DATE', 'ONSET_DATE','NUMDAYS', 'LAB_DATA', \n\u001b[0m\u001b[1;32m      3\u001b[0m                                                    \u001b[0;34m'V_ADMINBY'\u001b[0m\u001b[0;34m,\u001b[0m \u001b[0;34m'V_FUNDBY'\u001b[0m\u001b[0;34m,\u001b[0m \u001b[0;34m'OTHER_MEDS'\u001b[0m\u001b[0;34m,\u001b[0m \u001b[0;34m'CUR_ILL'\u001b[0m\u001b[0;34m,\u001b[0m \u001b[0;34m'PRIOR_VAX'\u001b[0m\u001b[0;34m,\u001b[0m \u001b[0;34m'SPLTTYPE'\u001b[0m\u001b[0;34m,\u001b[0m\u001b[0;34m\u001b[0m\u001b[0;34m\u001b[0m\u001b[0m\n\u001b[1;32m      4\u001b[0m                                                    'FORM_VERS', 'TODAYS_DATE', 'OFC_VISIT', 'ER_ED_VISIT', 'ALLERGIES'])\n\u001b[1;32m      5\u001b[0m \u001b[0mclean_vaers_data_df\u001b[0m\u001b[0;34m.\u001b[0m\u001b[0mhead\u001b[0m\u001b[0;34m(\u001b[0m\u001b[0;34m)\u001b[0m\u001b[0;34m\u001b[0m\u001b[0;34m\u001b[0m\u001b[0m\n",
      "\u001b[0;31mNameError\u001b[0m: name 'vaers_data_df' is not defined"
     ]
    }
   ],
   "source": [
    "# Drop  Columns \n",
    "clean_vaers_data_df = vaers_data_df.drop(columns =['CAGE_YR', 'CAGE_MO', 'RPT_DATE', 'ONSET_DATE','NUMDAYS', 'LAB_DATA', \n",
    "                                                   'V_ADMINBY', 'V_FUNDBY', 'OTHER_MEDS', 'CUR_ILL', 'PRIOR_VAX', 'SPLTTYPE', \n",
    "                                                   'FORM_VERS', 'TODAYS_DATE', 'OFC_VISIT', 'ER_ED_VISIT', 'ALLERGIES'])\n",
    "clean_vaers_data_df.head()"
   ]
  },
  {
   "cell_type": "code",
   "execution_count": null,
   "metadata": {},
   "outputs": [],
   "source": [
    "# Verify Columns\n",
    "clean_vaers_data_df.columns"
   ]
  },
  {
   "cell_type": "code",
   "execution_count": null,
   "metadata": {},
   "outputs": [],
   "source": [
    "# Export Clean VAERSData to CSV for join in Postgres\n",
    "clean_vaers_data_df.to_csv(r'../Resources/Data/clean_vaers_data.csv', index=True)"
   ]
  },
  {
   "cell_type": "code",
   "execution_count": null,
   "metadata": {},
   "outputs": [],
   "source": [
    "# make sure L_THREAT is only 2 values\n",
    "threat_check = vaers_data['L_THREAT'].unique()\n",
    "threat_check"
   ]
  },
  {
   "cell_type": "code",
   "execution_count": null,
   "metadata": {
    "scrolled": false
   },
   "outputs": [],
   "source": [
    "# narrow down data to id and l threat\n",
    "threat = vaers_data[['VAERS_ID','L_THREAT','AGE_YRS','SEX']]\n",
    "threat"
   ]
  },
  {
   "cell_type": "code",
   "execution_count": null,
   "metadata": {},
   "outputs": [],
   "source": [
    "threat.hist(column='AGE_YRS')"
   ]
  },
  {
   "cell_type": "code",
   "execution_count": null,
   "metadata": {},
   "outputs": [],
   "source": [
    "# Set VAERS_ID as index\n",
    "threat = threat.set_index([\"VAERS_ID\"])\n",
    "threat.head()"
   ]
  },
  {
   "cell_type": "code",
   "execution_count": null,
   "metadata": {},
   "outputs": [],
   "source": [
    "# narrow down ID's that only contain life threatening symptoms\n",
    "threat_y = threat[threat['L_THREAT'] == 'Y']\n",
    "threat_y"
   ]
  },
  {
   "cell_type": "markdown",
   "metadata": {},
   "source": [
    "## VAERSVAX Cleanup"
   ]
  },
  {
   "cell_type": "code",
   "execution_count": null,
   "metadata": {
    "scrolled": true
   },
   "outputs": [],
   "source": [
    "# VAERSVAX Dataframe\n",
    "vaers_vax = pd.read_csv(vax_csv, index_col=None, header=0, encoding='latin1', low_memory=False)\n",
    "vaers_vax.head()"
   ]
  },
  {
   "cell_type": "code",
   "execution_count": null,
   "metadata": {},
   "outputs": [],
   "source": [
    "# Set VAERS_ID as index\n",
    "vaers_vax_df = vaers_vax.set_index([\"VAERS_ID\"])\n",
    "vaers_vax_df"
   ]
  },
  {
   "cell_type": "code",
   "execution_count": null,
   "metadata": {},
   "outputs": [],
   "source": [
    "# Check Columns\n",
    "vaers_vax_df.columns"
   ]
  },
  {
   "cell_type": "code",
   "execution_count": null,
   "metadata": {
    "scrolled": true
   },
   "outputs": [],
   "source": [
    "# Drop  Columns \n",
    "clean_vaers_vax_df = vaers_vax_df.drop(columns =['VAX_LOT', 'VAX_DOSE_SERIES', 'VAX_ROUTE', 'VAX_SITE'])\n",
    "clean_vaers_vax_df"
   ]
  },
  {
   "cell_type": "markdown",
   "metadata": {},
   "source": [
    "## VAERS Symptoms Cleanup"
   ]
  },
  {
   "cell_type": "code",
   "execution_count": null,
   "metadata": {},
   "outputs": [],
   "source": [
    "# Importing 2021VAERSSYMPTOMS.csv \n",
    "vaers_symptoms_df = pd.read_csv(symptoms_csv, index_col=None, header=0, encoding='latin1', low_memory=False)\n",
    "vaers_symptoms_df.head()"
   ]
  },
  {
   "cell_type": "code",
   "execution_count": null,
   "metadata": {
    "scrolled": true
   },
   "outputs": [],
   "source": [
    "# converting NaN to 0 in symptoms df\n",
    "vaers_symptoms_df = vaers_symptoms_df.fillna(0)\n",
    "vaers_symptoms_df.head()"
   ]
  },
  {
   "cell_type": "code",
   "execution_count": null,
   "metadata": {},
   "outputs": [],
   "source": [
    "# checking if it worked. yup it worked.\n",
    "vaers_symptoms_df.isnull().sum()"
   ]
  },
  {
   "cell_type": "code",
   "execution_count": null,
   "metadata": {},
   "outputs": [],
   "source": [
    "# Setting VAERS_ID as the index\n",
    "vaers_symptoms_df = vaers_symptoms_df.set_index([\"VAERS_ID\"])\n",
    "vaers_symptoms_df.head()"
   ]
  },
  {
   "cell_type": "code",
   "execution_count": null,
   "metadata": {},
   "outputs": [],
   "source": [
    "# Dropping the SYMPTOMVERSION columns\n",
    "new_vaers_symptoms_df = vaers_symptoms_df.drop(columns =['SYMPTOMVERSION1', 'SYMPTOMVERSION2', 'SYMPTOMVERSION3', 'SYMPTOMVERSION4', 'SYMPTOMVERSION5'])\n",
    "new_vaers_symptoms_df.head()"
   ]
  },
  {
   "cell_type": "code",
   "execution_count": null,
   "metadata": {},
   "outputs": [],
   "source": [
    "# Checking the data types\n",
    "new_vaers_symptoms_df.dtypes"
   ]
  },
  {
   "cell_type": "code",
   "execution_count": null,
   "metadata": {},
   "outputs": [],
   "source": [
    "new_vaers_symptoms_df.columns"
   ]
  },
  {
   "cell_type": "code",
   "execution_count": null,
   "metadata": {},
   "outputs": [],
   "source": [
    "# Grouping SYMPTOM1 column by VAERS_ID and joingin the values\n",
    "grouped_symptoms1 = new_vaers_symptoms_df.groupby('VAERS_ID')['SYMPTOM1'].apply(', '.join)\n",
    "grouped_symptoms1.head()"
   ]
  },
  {
   "cell_type": "code",
   "execution_count": null,
   "metadata": {},
   "outputs": [],
   "source": [
    "# Grouping SYMPTOM2 column by VAERS_ID and joingin the values\n",
    "grouped_symptoms2_df = new_vaers_symptoms_df.astype(str).groupby('VAERS_ID')['SYMPTOM2'].apply(', '.join)\n",
    "grouped_symptoms2_df.head()"
   ]
  },
  {
   "cell_type": "code",
   "execution_count": null,
   "metadata": {},
   "outputs": [],
   "source": [
    "# Grouping SYMPTOM3 column by VAERS_ID and joingin the values\n",
    "grouped_symptoms3 = new_vaers_symptoms_df.astype(str).groupby('VAERS_ID')['SYMPTOM3'].apply(', '.join)\n",
    "grouped_symptoms3.head()"
   ]
  },
  {
   "cell_type": "code",
   "execution_count": null,
   "metadata": {},
   "outputs": [],
   "source": [
    "# Grouping SYMPTOM4 column by VAERS_ID and joingin the values\n",
    "grouped_symptoms4 = new_vaers_symptoms_df.astype(str).groupby('VAERS_ID')['SYMPTOM4'].apply(', '.join)\n",
    "grouped_symptoms4.head()"
   ]
  },
  {
   "cell_type": "code",
   "execution_count": null,
   "metadata": {},
   "outputs": [],
   "source": [
    "# Grouping SYMPTOM5 column by VAERS_ID and joingin the values\n",
    "grouped_symptoms5 = new_vaers_symptoms_df.astype(str).groupby('VAERS_ID')['SYMPTOM5'].apply(', '.join)\n",
    "grouped_symptoms5.head()"
   ]
  },
  {
   "cell_type": "code",
   "execution_count": null,
   "metadata": {},
   "outputs": [],
   "source": [
    "# Merging Symptoms 1 and 2 by VAERS_ID\n",
    "merge_1_2 = pd.merge(grouped_symptoms1, grouped_symptoms2_df, how=\"left\", on=[\"VAERS_ID\"])\n",
    "merge_1_2.head()"
   ]
  },
  {
   "cell_type": "code",
   "execution_count": null,
   "metadata": {},
   "outputs": [],
   "source": [
    "# Merging Symptoms 3 and 4 by VAERS_ID\n",
    "merge_3_4 = pd.merge(grouped_symptoms3, grouped_symptoms4, how=\"left\", on=[\"VAERS_ID\"])\n",
    "merge_3_4.head()"
   ]
  },
  {
   "cell_type": "code",
   "execution_count": null,
   "metadata": {},
   "outputs": [],
   "source": [
    "# Merging Symptoms 1-4\n",
    "merge_df = pd.merge(merge_1_2, merge_3_4, how=\"left\", on=[\"VAERS_ID\"])\n",
    "merge_df.head()"
   ]
  },
  {
   "cell_type": "code",
   "execution_count": null,
   "metadata": {},
   "outputs": [],
   "source": [
    "# Merging all symptom columns into one df\n",
    "full_df_merge = pd.merge(merge_df, grouped_symptoms5, how=\"left\", on=[\"VAERS_ID\"])\n",
    "full_df_merge.head(25)"
   ]
  },
  {
   "cell_type": "code",
   "execution_count": null,
   "metadata": {},
   "outputs": [],
   "source": [
    "# using merge function by setting how='inner'\n",
    "vax_symp_join = pd.merge(clean_vaers_vax_df, full_df_merge, \n",
    "                   on='VAERS_ID', \n",
    "                   how='inner')\n",
    "vax_symp_join.head()"
   ]
  },
  {
   "cell_type": "code",
   "execution_count": null,
   "metadata": {},
   "outputs": [],
   "source": [
    "# Verify Columns of vax_symp_join \n",
    "list(vax_symp_join.columns)"
   ]
  },
  {
   "cell_type": "code",
   "execution_count": null,
   "metadata": {
    "scrolled": false
   },
   "outputs": [],
   "source": [
    "# check to make sure only covid vaccines are in the list\n",
    "covid_list = vax_symp_join['VAX_MANU'].unique()\n",
    "covid_list"
   ]
  },
  {
   "cell_type": "code",
   "execution_count": null,
   "metadata": {},
   "outputs": [],
   "source": [
    "vax_symp_join.head()"
   ]
  },
  {
   "cell_type": "code",
   "execution_count": null,
   "metadata": {},
   "outputs": [],
   "source": [
    "covid_df = vax_symp_join[vax_symp_join[\"VAX_TYPE\"] == 'COVID19']\n",
    "covid_df"
   ]
  },
  {
   "cell_type": "code",
   "execution_count": null,
   "metadata": {},
   "outputs": [],
   "source": [
    "# # check to make sure only covid vaccines are in the list\n",
    "# covid_list = covid_df['VAX_MANU'].unique()\n",
    "# covid_list"
   ]
  },
  {
   "cell_type": "code",
   "execution_count": null,
   "metadata": {},
   "outputs": [],
   "source": [
    "# Exporting the VAX and Symptoms join\n",
    "covid_df.to_csv(r'../Resources/Data/VAERS_Vax_Symptoms.csv', index=True)"
   ]
  },
  {
   "cell_type": "markdown",
   "metadata": {},
   "source": [
    "## Machine Learning Cleanup"
   ]
  },
  {
   "cell_type": "code",
   "execution_count": null,
   "metadata": {},
   "outputs": [],
   "source": [
    "#merge vaxsymp with l threat\n",
    "merge_threat = pd.merge(covid_df, threat_y, on='VAERS_ID', how='right')\n",
    "merge_threat"
   ]
  },
  {
   "cell_type": "code",
   "execution_count": null,
   "metadata": {
    "scrolled": true
   },
   "outputs": [],
   "source": [
    "ml_ready_df = merge_threat.drop(columns =['VAX_NAME','VAX_TYPE','L_THREAT'])\n",
    "ml_ready_df"
   ]
  },
  {
   "cell_type": "code",
   "execution_count": null,
   "metadata": {},
   "outputs": [],
   "source": [
    "# Export to CSV for Machine Learning\n",
    "ml_ready_df.to_csv(r'../Resources/Data/MLdata.csv', index=True)"
   ]
  },
  {
   "cell_type": "code",
   "execution_count": null,
   "metadata": {},
   "outputs": [],
   "source": []
  }
 ],
 "metadata": {
  "kernelspec": {
   "display_name": "PythonData",
   "language": "python",
   "name": "pythondata"
  },
  "language_info": {
   "codemirror_mode": {
    "name": "ipython",
    "version": 3
   },
   "file_extension": ".py",
   "mimetype": "text/x-python",
   "name": "python",
   "nbconvert_exporter": "python",
   "pygments_lexer": "ipython3",
   "version": "3.8.5"
  }
 },
 "nbformat": 4,
 "nbformat_minor": 4
}
